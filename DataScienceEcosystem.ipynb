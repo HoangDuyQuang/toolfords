{
 "cells": [
  {
   "cell_type": "markdown",
   "id": "1382642f-02ad-4d8a-8d77-d61f7f2844b9",
   "metadata": {},
   "source": [
    "# Data Science Tools and Ecosystem"
   ]
  },
  {
   "cell_type": "markdown",
   "id": "afc694b7-0d82-4df8-ba14-16a34ddede75",
   "metadata": {},
   "source": [
    "## In this notebook, Data Science Tools and Ecosystem are summarized."
   ]
  },
  {
   "cell_type": "markdown",
   "id": "7b000a0f-f0ab-4f9f-8e5f-ad4ea2b23473",
   "metadata": {},
   "source": [
    "**Objectives:**\n",
    "\n",
    "* List popular languages for Data Science\n",
    "* Learn basic Python syntax\n",
    "* Understand data structures like Pandas DataFrame\n",
    "* Explore data visualization techniques using Matplotlib\n",
    "* Practice machine learning algorithms\n"
   ]
  },
  {
   "cell_type": "markdown",
   "id": "23a920a9-7ad1-4852-8288-fb17b8c7f449",
   "metadata": {},
   "source": [
    "### Some of the popular languages that Data Scientists use are:\n",
    "1. Python\n",
    "2. R\n",
    "3. SQL"
   ]
  },
  {
   "cell_type": "markdown",
   "id": "0165e103-c184-46d4-a31e-1453163e5fa8",
   "metadata": {},
   "source": [
    "### Some of the commonly used libraries used by Data Scientists include:\n",
    "1. Numpy\n",
    "2. Scikitlearn\n",
    "3. Keras"
   ]
  },
  {
   "cell_type": "markdown",
   "id": "5fa92c48-d13a-4789-b305-5bda2f18a7c7",
   "metadata": {},
   "source": [
    "| Data Science tools |\n",
    "|------|\n",
    "| Jupyter Notebook |\n",
    "| RStudio |\n",
    "| VS Code |\n"
   ]
  },
  {
   "cell_type": "markdown",
   "id": "74e15610-b8aa-49a4-9cf7-8caacd7d717e",
   "metadata": {},
   "source": [
    "### Below are a few examples of evaluating arithmetic expressions in Python.\n",
    "\n"
   ]
  },
  {
   "cell_type": "code",
   "execution_count": 6,
   "id": "3228c8d0-0b78-4cea-8567-5172c741860c",
   "metadata": {},
   "outputs": [
    {
     "data": {
      "text/plain": [
       "17"
      ]
     },
     "execution_count": 6,
     "metadata": {},
     "output_type": "execute_result"
    }
   ],
   "source": [
    "# This a simple arithmetic expression to mutiply then add integers\n",
    "(3*4)+5"
   ]
  },
  {
   "cell_type": "code",
   "execution_count": 7,
   "id": "cfb1dd7b-a523-4aac-865f-7100ea4affbe",
   "metadata": {},
   "outputs": [
    {
     "name": "stdout",
     "output_type": "stream",
     "text": [
      "200 mins equal to 3.3333333333333335 hours\n"
     ]
    }
   ],
   "source": [
    "# This will convert 200 minutes to hours by diving by 60\n",
    "print(f'200 mins equal to {200/60} hours')"
   ]
  },
  {
   "cell_type": "markdown",
   "id": "5c925582-9844-41ef-98fd-24e09e9275a5",
   "metadata": {},
   "source": [
    "## Author\n",
    "Quang"
   ]
  }
 ],
 "metadata": {
  "kernelspec": {
   "display_name": "Python 3 (ipykernel)",
   "language": "python",
   "name": "python3"
  },
  "language_info": {
   "codemirror_mode": {
    "name": "ipython",
    "version": 3
   },
   "file_extension": ".py",
   "mimetype": "text/x-python",
   "name": "python",
   "nbconvert_exporter": "python",
   "pygments_lexer": "ipython3",
   "version": "3.12.7"
  }
 },
 "nbformat": 4,
 "nbformat_minor": 5
}
